{
 "cells": [
  {
   "cell_type": "code",
   "execution_count": 2,
   "id": "5547f6f1",
   "metadata": {},
   "outputs": [],
   "source": [
    "from urllib.request import urlopen as uReq\n",
    "from bs4 import BeautifulSoup as soup"
   ]
  },
  {
   "cell_type": "code",
   "execution_count": 3,
   "id": "f1d33d40",
   "metadata": {},
   "outputs": [],
   "source": [
    "my_url = \"https://www.flipkart.com/search?q=iphone&otracker=search&otracker1=search&marketplace=FLIPKART&as-show=on&as=off\""
   ]
  },
  {
   "cell_type": "code",
   "execution_count": 4,
   "id": "b8dfe85c",
   "metadata": {
    "scrolled": false
   },
   "outputs": [],
   "source": [
    "uClient = uReq(my_url)\n",
    "page_html = uClient.read()\n",
    "uClient.close()\n",
    "page_soup = soup(page_html, \"html.parser\")\n"
   ]
  },
  {
   "cell_type": "code",
   "execution_count": 35,
   "id": "6fe7f9f7",
   "metadata": {},
   "outputs": [
    {
     "name": "stdout",
     "output_type": "stream",
     "text": [
      "31\n"
     ]
    }
   ],
   "source": [
    "containers = page_soup.findAll(\"div\",{\"class\": \"_1AtVbE col-12-12\"})\n",
    "#container = containers[0]\n",
    "print(len(containers))"
   ]
  },
  {
   "cell_type": "code",
   "execution_count": 36,
   "id": "7cedb443",
   "metadata": {},
   "outputs": [
    {
     "name": "stdout",
     "output_type": "stream",
     "text": [
      "<div class=\"_1AtVbE col-12-12\">\n",
      " <div class=\"_13oc-S\">\n",
      "  <div data-id=\"MOBG6VF5Q82T3XRS\" style=\"width:100%\">\n",
      "   <div class=\"_2kHMtA\">\n",
      "    <a class=\"_1fQZEK\" href=\"/apple-iphone-13-midnight-128-gb/p/itmca361aab1c5b0?pid=MOBG6VF5Q82T3XRS&amp;lid=LSTMOBG6VF5Q82T3XRSOXJLM9&amp;marketplace=FLIPKART&amp;q=iphone&amp;store=tyy%2F4io&amp;srno=s_1_2&amp;otracker=search&amp;otracker1=search&amp;fm=organic&amp;iid=e922417a-1eeb-41a2-9617-959471141f85.MOBG6VF5Q82T3XRS.SEARCH&amp;ppt=None&amp;ppn=None&amp;ssid=x26riu24m80000001647817909436&amp;qH=0b3f45b266a97d70\" rel=\"noopener noreferrer\" target=\"_blank\">\n",
      "     <div class=\"MIXNux\">\n",
      "      <div class=\"_2QcLo-\">\n",
      "       <div>\n",
      "        <div class=\"CXW8mj\" style=\"height:200px;width:200px\">\n",
      "         <img alt=\"APPLE iPhone 13 (Midnight, 128 GB)\" class=\"_396cs4 _3exPp9\" src=\"https://rukminim2.flixcart.com/image/312/312/ktketu80/mobile/f/c/g/iphone-13-mlpf3hn-a-apple-original-imag6vzzzfa5ndzm.jpeg?q=70\"/>\n",
      "        </div>\n",
      "       </div>\n",
      "      </div>\n",
      "      <div class=\"_3wLduG\">\n",
      "       <div class=\"_3PzNI-\">\n",
      "        <span class=\"f3A4_V\">\n",
      "         <label class=\"_2iDkf8\">\n",
      "          <input class=\"_30VH1S\" readonly=\"\" type=\"checkbox\"/>\n",
      "          <div class=\"_24_Dny\">\n",
      "          </div>\n",
      "         </label>\n",
      "        </span>\n",
      "        <label class=\"_6Up2sF\">\n",
      "         <span>\n",
      "          Add to Compare\n",
      "         </span>\n",
      "        </label>\n",
      "       </div>\n",
      "      </div>\n",
      "      <div class=\"_2hVSre _3nq8ih\">\n",
      "       <div class=\"_36FSn5\">\n",
      "        <svg class=\"_1l0elc\" height=\"16\" viewbox=\"0 0 20 16\" width=\"16\" xmlns=\"http://www.w3.org/2000/svg\">\n",
      "         <path class=\"eX72wL\" d=\"M8.695 16.682C4.06 12.382 1 9.536 1 6.065 1 3.219 3.178 1 5.95 1c1.566 0 3.069.746 4.05 1.915C10.981 1.745 12.484 1 14.05 1 16.822 1 19 3.22 19 6.065c0 3.471-3.06 6.316-7.695 10.617L10 17.897l-1.305-1.215z\" fill=\"#2874F0\" fill-rule=\"evenodd\" opacity=\".9\" stroke=\"#FFF\">\n",
      "         </path>\n",
      "        </svg>\n",
      "       </div>\n",
      "      </div>\n",
      "     </div>\n",
      "     <div class=\"_3pLy-c row\">\n",
      "      <div class=\"col col-7-12\">\n",
      "       <div class=\"_4rR01T\">\n",
      "        APPLE iPhone 13 (Midnight, 128 GB)\n",
      "       </div>\n",
      "       <div class=\"gUuXy-\">\n",
      "        <span class=\"_1lRcqv\" id=\"productRating_LSTMOBG6VF5Q82T3XRSOXJLM9_MOBG6VF5Q82T3XRS_\">\n",
      "         <div class=\"_3LWZlK\">\n",
      "          4.6\n",
      "          <img class=\"_1wB99o\" src=\"data:image/svg+xml;base64,PHN2ZyB4bWxucz0iaHR0cDovL3d3dy53My5vcmcvMjAwMC9zdmciIHdpZHRoPSIxMyIgaGVpZ2h0PSIxMiI+PHBhdGggZmlsbD0iI0ZGRiIgZD0iTTYuNSA5LjQzOWwtMy42NzQgMi4yMy45NC00LjI2LTMuMjEtMi44ODMgNC4yNTQtLjQwNEw2LjUuMTEybDEuNjkgNC4wMSA0LjI1NC40MDQtMy4yMSAyLjg4Mi45NCA0LjI2eiIvPjwvc3ZnPg==\"/>\n",
      "         </div>\n",
      "        </span>\n",
      "        <span class=\"_2_R_DZ\">\n",
      "         <span>\n",
      "          <span>\n",
      "           2,854 Ratings\n",
      "          </span>\n",
      "          <span class=\"_13vcmD\">\n",
      "           &amp;\n",
      "          </span>\n",
      "          <span>\n",
      "           322 Reviews\n",
      "          </span>\n",
      "         </span>\n",
      "        </span>\n",
      "       </div>\n",
      "       <div class=\"fMghEO\">\n",
      "        <ul class=\"_1xgFaf\">\n",
      "         <li class=\"rgWa7D\">\n",
      "          128 GB ROM\n",
      "         </li>\n",
      "         <li class=\"rgWa7D\">\n",
      "          15.49 cm (6.1 inch) Super Retina XDR Display\n",
      "         </li>\n",
      "         <li class=\"rgWa7D\">\n",
      "          12MP + 12MP | 12MP Front Camera\n",
      "         </li>\n",
      "         <li class=\"rgWa7D\">\n",
      "          A15 Bionic Chip Processor\n",
      "         </li>\n",
      "         <li class=\"rgWa7D\">\n",
      "          Brand Warranty for 1 Year\n",
      "         </li>\n",
      "        </ul>\n",
      "       </div>\n",
      "      </div>\n",
      "      <div class=\"col col-5-12 nlI3QM\">\n",
      "       <div class=\"_3tbKJL\">\n",
      "        <div class=\"_25b18c\">\n",
      "         <div class=\"_30jeq3 _1_WHN1\">\n",
      "          ₹74,900\n",
      "         </div>\n",
      "         <div class=\"_3I9_wc _27UcVY\">\n",
      "          ₹\n",
      "          <!-- -->\n",
      "          79,900\n",
      "         </div>\n",
      "         <div class=\"_3Ay6Sb\">\n",
      "          <span>\n",
      "           6% off\n",
      "          </span>\n",
      "         </div>\n",
      "        </div>\n",
      "        <div class=\"_3tcB5a p8ucoS\">\n",
      "         <div>\n",
      "          <div class=\"_2Tpdn3\" style=\"color:#000000;font-size:12px;font-style:normal;font-weight:400\">\n",
      "           Free delivery\n",
      "          </div>\n",
      "         </div>\n",
      "        </div>\n",
      "       </div>\n",
      "       <div class=\"_13J9qT\">\n",
      "        <img height=\"21\" src=\"//static-assets-web.flixcart.com/www/linchpin/fk-cp-zion/img/fa_62673a.png\"/>\n",
      "       </div>\n",
      "       <div class=\"_2ZdXDB\">\n",
      "        <div class=\"_3xFhiH\">\n",
      "         <div class=\"_2Tpdn3 _18hQoS\" style=\"color:#000000;font-size:14px;font-style:normal;font-weight:400\">\n",
      "          Upto\n",
      "         </div>\n",
      "         <div class=\"_2Tpdn3 _18hQoS\" style=\"color:#000000;font-size:14px;font-style:normal;font-weight:700\">\n",
      "          ₹16,000\n",
      "         </div>\n",
      "         <div class=\"_2Tpdn3 _18hQoS\" style=\"color:#000000;font-size:14px;font-style:normal;font-weight:400\">\n",
      "          Off on Exchange\n",
      "         </div>\n",
      "        </div>\n",
      "       </div>\n",
      "      </div>\n",
      "     </div>\n",
      "    </a>\n",
      "   </div>\n",
      "  </div>\n",
      " </div>\n",
      "</div>\n",
      "\n"
     ]
    }
   ],
   "source": [
    "print(soup.prettify(containers[4]))"
   ]
  },
  {
   "cell_type": "code",
   "execution_count": 37,
   "id": "9ec52df3",
   "metadata": {},
   "outputs": [
    {
     "name": "stdout",
     "output_type": "stream",
     "text": [
      "APPLE iPhone 13 (Midnight, 128 GB)\n"
     ]
    }
   ],
   "source": [
    "container = containers[4]\n",
    "print(container.div.img['alt'])"
   ]
  },
  {
   "cell_type": "code",
   "execution_count": 39,
   "id": "175f1e9e",
   "metadata": {},
   "outputs": [
    {
     "name": "stdout",
     "output_type": "stream",
     "text": [
      "APPLE iPhone 13 (Midnight, 128 GB)\n"
     ]
    }
   ],
   "source": [
    "print(container.div.find(\"div\",{\"class\":\"_4rR01T\"}).text)"
   ]
  },
  {
   "cell_type": "code",
   "execution_count": 41,
   "id": "43e54805",
   "metadata": {},
   "outputs": [
    {
     "name": "stdout",
     "output_type": "stream",
     "text": [
      "₹74,900\n"
     ]
    }
   ],
   "source": [
    "prices = container.find(\"div\",{\"class\":\"_30jeq3 _1_WHN1\"})\n",
    "print(prices.text)"
   ]
  },
  {
   "cell_type": "code",
   "execution_count": 59,
   "id": "a3a9d520",
   "metadata": {},
   "outputs": [
    {
     "data": {
      "text/plain": [
       "7"
      ]
     },
     "execution_count": 59,
     "metadata": {},
     "output_type": "execute_result"
    }
   ],
   "source": [
    "filename = \"scraped_results.csv\"\n",
    "f = open(filename,\"w\")\n",
    "header = \"Name,Price\"\n",
    "f.write(header+\"\\n\")"
   ]
  },
  {
   "cell_type": "code",
   "execution_count": 60,
   "id": "14bc2e7d",
   "metadata": {
    "scrolled": true
   },
   "outputs": [
    {
     "name": "stdout",
     "output_type": "stream",
     "text": [
      "APPLE iPhone SE (Red| 128 GB),34999\n",
      "\n",
      "APPLE iPhone 13 (Midnight| 128 GB),74900\n",
      "\n",
      "APPLE iPhone 13 (Starlight| 128 GB),74900\n",
      "\n",
      "APPLE iPhone SE (Black| 64 GB),30299\n",
      "\n",
      "APPLE iPhone SE (Red| 64 GB),30299\n",
      "\n",
      "APPLE iPhone 13 (Blue| 128 GB),74900\n",
      "\n",
      "APPLE iPhone 13 (Green| 128 GB),74900\n",
      "\n",
      "APPLE iPhone SE (White| 128 GB),34999\n",
      "\n",
      "APPLE iPhone SE (Black| 128 GB),34999\n",
      "\n",
      "APPLE iPhone 11 (Green| 64 GB),49900\n",
      "\n",
      "APPLE iPhone SE (White| 64 GB),30299\n",
      "\n",
      "APPLE iPhone 12 Mini (Purple| 256 GB),65299\n",
      "\n",
      "APPLE iPhone 12 Mini (Black| 256 GB),65299\n",
      "\n",
      "APPLE iPhone 12 Mini (Blue| 64 GB),49999\n",
      "\n",
      "APPLE iPhone 12 Mini (Blue| 256 GB),65299\n",
      "\n",
      "APPLE iPhone 11 (White| 128 GB),54900\n",
      "\n",
      "APPLE iPhone 13 (Midnight| 256 GB),84900\n",
      "\n",
      "APPLE iPhone 11 (Black| 128 GB),54900\n",
      "\n",
      "APPLE iPhone 11 (Green| 128 GB),54900\n",
      "\n",
      "APPLE iPhone 11 (Purple| 64 GB),49900\n",
      "\n",
      "APPLE iPhone 13 ((PRODUCT)RED| 256 GB),84900\n",
      "\n",
      "APPLE iPhone 11 (White| 64 GB),49900\n",
      "\n",
      "APPLE iPhone 12 Mini (Red| 256 GB),65299\n",
      "\n",
      "APPLE iPhone 13 Mini (Midnight| 128 GB),64900\n",
      "\n"
     ]
    }
   ],
   "source": [
    "for container in containers:\n",
    "    name_container = container.find(\"div\",{\"class\":\"_4rR01T\"})\n",
    "    prices_container = container.find(\"div\",{\"class\":\"_30jeq3 _1_WHN1\"})\n",
    "    #print(prices_container)\n",
    "    \n",
    "    if isinstance(name_container,type(None)) or isinstance(prices_container,type(None)):\n",
    "        continue\n",
    "    else:\n",
    "        name1 = name_container.text\n",
    "        price1 = prices_container.text\n",
    "        price_no_commas = ''.join(price1.split(','))\n",
    "        data_name = name1.replace(\",\",\"|\")\n",
    "        data_price = price_no_commas.split(\"₹\")\n",
    "        \n",
    "        s=data_name+\",\"+data_price[1]+\"\\n\"\n",
    "        print(s)\n",
    "        f.write(s)\n",
    "f.close()"
   ]
  },
  {
   "cell_type": "code",
   "execution_count": null,
   "id": "aba73e7d",
   "metadata": {},
   "outputs": [],
   "source": []
  }
 ],
 "metadata": {
  "kernelspec": {
   "display_name": "Python 3 (ipykernel)",
   "language": "python",
   "name": "python3"
  },
  "language_info": {
   "codemirror_mode": {
    "name": "ipython",
    "version": 3
   },
   "file_extension": ".py",
   "mimetype": "text/x-python",
   "name": "python",
   "nbconvert_exporter": "python",
   "pygments_lexer": "ipython3",
   "version": "3.9.7"
  }
 },
 "nbformat": 4,
 "nbformat_minor": 5
}
